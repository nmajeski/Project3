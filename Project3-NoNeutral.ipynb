{
 "cells": [
  {
   "cell_type": "code",
   "execution_count": 1,
   "metadata": {},
   "outputs": [
    {
     "data": {
      "text/html": [
       "<div>\n",
       "<style scoped>\n",
       "    .dataframe tbody tr th:only-of-type {\n",
       "        vertical-align: middle;\n",
       "    }\n",
       "\n",
       "    .dataframe tbody tr th {\n",
       "        vertical-align: top;\n",
       "    }\n",
       "\n",
       "    .dataframe thead th {\n",
       "        text-align: right;\n",
       "    }\n",
       "</style>\n",
       "<table border=\"1\" class=\"dataframe\">\n",
       "  <thead>\n",
       "    <tr style=\"text-align: right;\">\n",
       "      <th></th>\n",
       "      <th>id</th>\n",
       "      <th>alias</th>\n",
       "      <th>coordinates</th>\n",
       "      <th>reviewCount</th>\n",
       "      <th>text</th>\n",
       "      <th>rating</th>\n",
       "    </tr>\n",
       "  </thead>\n",
       "  <tbody>\n",
       "    <tr>\n",
       "      <th>1</th>\n",
       "      <td>DTsMTLeptoad_34f9DFWjQ</td>\n",
       "      <td>starbucks-reserve-chicago-3</td>\n",
       "      <td>{'latitude': 41.91036, 'longitude': -87.677607}</td>\n",
       "      <td>108</td>\n",
       "      <td>STARBUCKS RESERVE located next to the Blue lin...</td>\n",
       "      <td>5</td>\n",
       "    </tr>\n",
       "    <tr>\n",
       "      <th>2</th>\n",
       "      <td>DTsMTLeptoad_34f9DFWjQ</td>\n",
       "      <td>starbucks-reserve-chicago-3</td>\n",
       "      <td>{'latitude': 41.91036, 'longitude': -87.677607}</td>\n",
       "      <td>108</td>\n",
       "      <td>Got a coffee and told him my name. He abbrevia...</td>\n",
       "      <td>1</td>\n",
       "    </tr>\n",
       "    <tr>\n",
       "      <th>3</th>\n",
       "      <td>jFcEuf5B5NmsrLk0sTzpcg</td>\n",
       "      <td>starbucks-chicago-171</td>\n",
       "      <td>{'latitude': 41.903146, 'longitude': -87.670074}</td>\n",
       "      <td>65</td>\n",
       "      <td>So here is the scoop. \\n\\nSubject, customer sa...</td>\n",
       "      <td>5</td>\n",
       "    </tr>\n",
       "    <tr>\n",
       "      <th>4</th>\n",
       "      <td>jFcEuf5B5NmsrLk0sTzpcg</td>\n",
       "      <td>starbucks-chicago-171</td>\n",
       "      <td>{'latitude': 41.903146, 'longitude': -87.670074}</td>\n",
       "      <td>65</td>\n",
       "      <td>I used to love coming here to get some work do...</td>\n",
       "      <td>2</td>\n",
       "    </tr>\n",
       "    <tr>\n",
       "      <th>5</th>\n",
       "      <td>jFcEuf5B5NmsrLk0sTzpcg</td>\n",
       "      <td>starbucks-chicago-171</td>\n",
       "      <td>{'latitude': 41.903146, 'longitude': -87.670074}</td>\n",
       "      <td>65</td>\n",
       "      <td>This is the busiest Starbucks, I swear!\\n\\nSer...</td>\n",
       "      <td>4</td>\n",
       "    </tr>\n",
       "  </tbody>\n",
       "</table>\n",
       "</div>"
      ],
      "text/plain": [
       "                       id                        alias  \\\n",
       "1  DTsMTLeptoad_34f9DFWjQ  starbucks-reserve-chicago-3   \n",
       "2  DTsMTLeptoad_34f9DFWjQ  starbucks-reserve-chicago-3   \n",
       "3  jFcEuf5B5NmsrLk0sTzpcg        starbucks-chicago-171   \n",
       "4  jFcEuf5B5NmsrLk0sTzpcg        starbucks-chicago-171   \n",
       "5  jFcEuf5B5NmsrLk0sTzpcg        starbucks-chicago-171   \n",
       "\n",
       "                                        coordinates  reviewCount  \\\n",
       "1   {'latitude': 41.91036, 'longitude': -87.677607}          108   \n",
       "2   {'latitude': 41.91036, 'longitude': -87.677607}          108   \n",
       "3  {'latitude': 41.903146, 'longitude': -87.670074}           65   \n",
       "4  {'latitude': 41.903146, 'longitude': -87.670074}           65   \n",
       "5  {'latitude': 41.903146, 'longitude': -87.670074}           65   \n",
       "\n",
       "                                                text  rating  \n",
       "1  STARBUCKS RESERVE located next to the Blue lin...       5  \n",
       "2  Got a coffee and told him my name. He abbrevia...       1  \n",
       "3  So here is the scoop. \\n\\nSubject, customer sa...       5  \n",
       "4  I used to love coming here to get some work do...       2  \n",
       "5  This is the busiest Starbucks, I swear!\\n\\nSer...       4  "
      ]
     },
     "execution_count": 1,
     "metadata": {},
     "output_type": "execute_result"
    }
   ],
   "source": [
    "import pandas as pd\n",
    "review_data_df = pd.read_json('review-data.json')\n",
    "review_data_df = review_data_df[review_data_df['rating'] != 3]\n",
    "review_data_df.head()"
   ]
  },
  {
   "cell_type": "code",
   "execution_count": 2,
   "metadata": {},
   "outputs": [
    {
     "data": {
      "text/html": [
       "<div>\n",
       "<style scoped>\n",
       "    .dataframe tbody tr th:only-of-type {\n",
       "        vertical-align: middle;\n",
       "    }\n",
       "\n",
       "    .dataframe tbody tr th {\n",
       "        vertical-align: top;\n",
       "    }\n",
       "\n",
       "    .dataframe thead th {\n",
       "        text-align: right;\n",
       "    }\n",
       "</style>\n",
       "<table border=\"1\" class=\"dataframe\">\n",
       "  <thead>\n",
       "    <tr style=\"text-align: right;\">\n",
       "      <th></th>\n",
       "      <th>id</th>\n",
       "    </tr>\n",
       "    <tr>\n",
       "      <th>rating</th>\n",
       "      <th></th>\n",
       "    </tr>\n",
       "  </thead>\n",
       "  <tbody>\n",
       "    <tr>\n",
       "      <th>1</th>\n",
       "      <td>262</td>\n",
       "    </tr>\n",
       "    <tr>\n",
       "      <th>2</th>\n",
       "      <td>99</td>\n",
       "    </tr>\n",
       "    <tr>\n",
       "      <th>4</th>\n",
       "      <td>135</td>\n",
       "    </tr>\n",
       "    <tr>\n",
       "      <th>5</th>\n",
       "      <td>254</td>\n",
       "    </tr>\n",
       "  </tbody>\n",
       "</table>\n",
       "</div>"
      ],
      "text/plain": [
       "         id\n",
       "rating     \n",
       "1       262\n",
       "2        99\n",
       "4       135\n",
       "5       254"
      ]
     },
     "execution_count": 2,
     "metadata": {},
     "output_type": "execute_result"
    }
   ],
   "source": [
    "review_data_df.groupby('rating').count()[['id']]"
   ]
  },
  {
   "cell_type": "code",
   "execution_count": 3,
   "metadata": {},
   "outputs": [],
   "source": [
    "satisfaction_list = []\n",
    "for rating in review_data_df['rating']:\n",
    "    if rating > 3:\n",
    "        satisfaction_list.append('satisfied')\n",
    "    else:\n",
    "        satisfaction_list.append('unsatisfied')\n",
    "        \n",
    "review_data_df['satisfaction_level'] = satisfaction_list"
   ]
  },
  {
   "cell_type": "code",
   "execution_count": 4,
   "metadata": {},
   "outputs": [],
   "source": [
    "def should_filter_line(line):\n",
    "    return line.strip() and line[0] != ';'"
   ]
  },
  {
   "cell_type": "code",
   "execution_count": 5,
   "metadata": {},
   "outputs": [],
   "source": [
    "positive_lines = []\n",
    "with open('positive-words.txt', 'r') as pf:\n",
    "    positive_lines = pf.readlines()\n",
    "    positive_lines = list(filter(should_filter_line, positive_lines))\n",
    "\n",
    "for i in range(len(positive_lines)):\n",
    "    positive_lines[i] = positive_lines[i].replace('\\n', '')"
   ]
  },
  {
   "cell_type": "code",
   "execution_count": 6,
   "metadata": {},
   "outputs": [],
   "source": [
    "negative_lines = []\n",
    "with open('negative-words.txt', 'r', encoding='utf-8', errors='ignore') as pf:\n",
    "    negative_lines = pf.readlines()\n",
    "    negative_lines = list(filter(should_filter_line, negative_lines))\n",
    "\n",
    "for i in range(len(negative_lines)):\n",
    "    negative_lines[i] = negative_lines[i].replace('\\n', '')"
   ]
  },
  {
   "cell_type": "code",
   "execution_count": 7,
   "metadata": {},
   "outputs": [],
   "source": [
    "from textblob import TextBlob\n",
    "\n",
    "num_positive_words_per_row = []\n",
    "num_negative_words_per_row = []\n",
    "polarity_values = []\n",
    "subjectivity_values = []\n",
    "for review_text in review_data_df['text']:\n",
    "    pos_counter = 0\n",
    "    neg_counter = 0\n",
    "    \n",
    "    for positive_word in positive_lines:\n",
    "        if positive_word in review_text:\n",
    "            pos_counter += 1\n",
    "    num_positive_words_per_row.append(pos_counter)\n",
    "    \n",
    "    for negative_word in negative_lines:\n",
    "        if negative_word in review_text:\n",
    "            neg_counter += 1\n",
    "    num_negative_words_per_row.append(neg_counter)\n",
    "    \n",
    "    tb = TextBlob(review_text)\n",
    "    polarity_values.append(tb.sentiment.polarity)\n",
    "    subjectivity_values.append(tb.sentiment.subjectivity)"
   ]
  },
  {
   "cell_type": "code",
   "execution_count": 8,
   "metadata": {},
   "outputs": [
    {
     "data": {
      "text/html": [
       "<div>\n",
       "<style scoped>\n",
       "    .dataframe tbody tr th:only-of-type {\n",
       "        vertical-align: middle;\n",
       "    }\n",
       "\n",
       "    .dataframe tbody tr th {\n",
       "        vertical-align: top;\n",
       "    }\n",
       "\n",
       "    .dataframe thead th {\n",
       "        text-align: right;\n",
       "    }\n",
       "</style>\n",
       "<table border=\"1\" class=\"dataframe\">\n",
       "  <thead>\n",
       "    <tr style=\"text-align: right;\">\n",
       "      <th></th>\n",
       "      <th>positive_word_count</th>\n",
       "      <th>negative_word_count</th>\n",
       "      <th>polarity</th>\n",
       "      <th>subjectivity</th>\n",
       "      <th>satisfaction_level</th>\n",
       "    </tr>\n",
       "  </thead>\n",
       "  <tbody>\n",
       "    <tr>\n",
       "      <th>1</th>\n",
       "      <td>2</td>\n",
       "      <td>0</td>\n",
       "      <td>0.100000</td>\n",
       "      <td>0.150000</td>\n",
       "      <td>satisfied</td>\n",
       "    </tr>\n",
       "    <tr>\n",
       "      <th>2</th>\n",
       "      <td>0</td>\n",
       "      <td>0</td>\n",
       "      <td>0.000000</td>\n",
       "      <td>0.000000</td>\n",
       "      <td>unsatisfied</td>\n",
       "    </tr>\n",
       "    <tr>\n",
       "      <th>3</th>\n",
       "      <td>2</td>\n",
       "      <td>2</td>\n",
       "      <td>0.059524</td>\n",
       "      <td>0.434524</td>\n",
       "      <td>satisfied</td>\n",
       "    </tr>\n",
       "    <tr>\n",
       "      <th>4</th>\n",
       "      <td>2</td>\n",
       "      <td>2</td>\n",
       "      <td>0.315000</td>\n",
       "      <td>0.800000</td>\n",
       "      <td>unsatisfied</td>\n",
       "    </tr>\n",
       "    <tr>\n",
       "      <th>5</th>\n",
       "      <td>0</td>\n",
       "      <td>6</td>\n",
       "      <td>0.000000</td>\n",
       "      <td>0.000000</td>\n",
       "      <td>satisfied</td>\n",
       "    </tr>\n",
       "  </tbody>\n",
       "</table>\n",
       "</div>"
      ],
      "text/plain": [
       "   positive_word_count  negative_word_count  polarity  subjectivity  \\\n",
       "1                    2                    0  0.100000      0.150000   \n",
       "2                    0                    0  0.000000      0.000000   \n",
       "3                    2                    2  0.059524      0.434524   \n",
       "4                    2                    2  0.315000      0.800000   \n",
       "5                    0                    6  0.000000      0.000000   \n",
       "\n",
       "  satisfaction_level  \n",
       "1          satisfied  \n",
       "2        unsatisfied  \n",
       "3          satisfied  \n",
       "4        unsatisfied  \n",
       "5          satisfied  "
      ]
     },
     "execution_count": 8,
     "metadata": {},
     "output_type": "execute_result"
    }
   ],
   "source": [
    "model_df = review_data_df.copy().drop(columns=['id', 'alias', 'coordinates', 'reviewCount', 'text', 'rating'])\n",
    "model_df['positive_word_count'] = num_positive_words_per_row\n",
    "model_df['negative_word_count'] = num_negative_words_per_row\n",
    "model_df['polarity'] = polarity_values\n",
    "model_df['subjectivity'] = subjectivity_values\n",
    "model_df = model_df[['positive_word_count', 'negative_word_count', 'polarity', 'subjectivity', 'satisfaction_level']]\n",
    "model_df.head()"
   ]
  },
  {
   "cell_type": "code",
   "execution_count": 9,
   "metadata": {},
   "outputs": [
    {
     "name": "stdout",
     "output_type": "stream",
     "text": [
      "(750, 4) (750,)\n"
     ]
    }
   ],
   "source": [
    "X = model_df.drop('satisfaction_level', axis=1)\n",
    "y = model_df['satisfaction_level']\n",
    "print(X.shape, y.shape)"
   ]
  },
  {
   "cell_type": "code",
   "execution_count": 10,
   "metadata": {},
   "outputs": [],
   "source": [
    "from sklearn.model_selection import train_test_split\n",
    "\n",
    "X_train, X_test, y_train, y_test = train_test_split(X, y, random_state=1)"
   ]
  },
  {
   "cell_type": "code",
   "execution_count": 11,
   "metadata": {},
   "outputs": [
    {
     "data": {
      "text/plain": [
       "LogisticRegression(C=1.0, class_weight=None, dual=False, fit_intercept=True,\n",
       "                   intercept_scaling=1, l1_ratio=None, max_iter=100,\n",
       "                   multi_class='auto', n_jobs=None, penalty='l2',\n",
       "                   random_state=None, solver='lbfgs', tol=0.0001, verbose=0,\n",
       "                   warm_start=False)"
      ]
     },
     "execution_count": 11,
     "metadata": {},
     "output_type": "execute_result"
    }
   ],
   "source": [
    "from sklearn.linear_model import LogisticRegression\n",
    "classifier = LogisticRegression()\n",
    "classifier"
   ]
  },
  {
   "cell_type": "code",
   "execution_count": 12,
   "metadata": {},
   "outputs": [
    {
     "data": {
      "text/plain": [
       "LogisticRegression(C=1.0, class_weight=None, dual=False, fit_intercept=True,\n",
       "                   intercept_scaling=1, l1_ratio=None, max_iter=100,\n",
       "                   multi_class='auto', n_jobs=None, penalty='l2',\n",
       "                   random_state=None, solver='lbfgs', tol=0.0001, verbose=0,\n",
       "                   warm_start=False)"
      ]
     },
     "execution_count": 12,
     "metadata": {},
     "output_type": "execute_result"
    }
   ],
   "source": [
    "classifier.fit(X_train, y_train)"
   ]
  },
  {
   "cell_type": "code",
   "execution_count": 13,
   "metadata": {},
   "outputs": [
    {
     "name": "stdout",
     "output_type": "stream",
     "text": [
      "Training Data Score: 0.7455516014234875\n",
      "Testing Data Score: 0.7925531914893617\n"
     ]
    }
   ],
   "source": [
    "print(f\"Training Data Score: {classifier.score(X_train, y_train)}\")\n",
    "print(f\"Testing Data Score: {classifier.score(X_test, y_test)}\")"
   ]
  },
  {
   "cell_type": "code",
   "execution_count": 14,
   "metadata": {},
   "outputs": [
    {
     "name": "stdout",
     "output_type": "stream",
     "text": [
      "First 10 Predictions:   ['unsatisfied', 'satisfied', 'unsatisfied', 'satisfied', 'unsatisfied', 'satisfied', 'unsatisfied', 'satisfied', 'satisfied', 'unsatisfied']\n",
      "First 10 Actual labels: ['unsatisfied', 'satisfied', 'unsatisfied', 'satisfied', 'unsatisfied', 'satisfied', 'satisfied', 'satisfied', 'satisfied', 'satisfied']\n"
     ]
    }
   ],
   "source": [
    "predictions = classifier.predict(X_test)\n",
    "print(f\"First 10 Predictions:   {predictions[:10].tolist()}\")\n",
    "print(f\"First 10 Actual labels: {y_test[:10].tolist()}\")"
   ]
  },
  {
   "cell_type": "code",
   "execution_count": 33,
   "metadata": {},
   "outputs": [
    {
     "name": "stdout",
     "output_type": "stream",
     "text": [
      "Result: ['satisfied']\n"
     ]
    }
   ],
   "source": [
    "# \"Starbucks is the best.\"\n",
    "t = \"I love apple fritters, and they use real apples!!\"\n",
    "tb = TextBlob(t)\n",
    "predictions = classifier.predict([[2, 1, tb.sentiment.polarity, tb.sentiment.subjectivity]])\n",
    "print(f\"Result: {predictions}\")"
   ]
  },
  {
   "cell_type": "code",
   "execution_count": 15,
   "metadata": {},
   "outputs": [
    {
     "name": "stdout",
     "output_type": "stream",
     "text": [
      "Training Data Score: 0.9928825622775801\n",
      "Testing Data Score: 0.723404255319149\n"
     ]
    }
   ],
   "source": [
    "from sklearn import tree\n",
    "classifier = tree.DecisionTreeClassifier()\n",
    "classifier = classifier.fit(X_train, y_train)\n",
    "print(f\"Training Data Score: {classifier.score(X_train, y_train)}\")\n",
    "print(f\"Testing Data Score: {classifier.score(X_test, y_test)}\")"
   ]
  },
  {
   "cell_type": "code",
   "execution_count": 16,
   "metadata": {},
   "outputs": [
    {
     "name": "stdout",
     "output_type": "stream",
     "text": [
      "First 10 Predictions:   ['satisfied', 'satisfied', 'unsatisfied', 'satisfied', 'unsatisfied', 'satisfied', 'unsatisfied', 'satisfied', 'satisfied', 'unsatisfied']\n",
      "First 10 Actual labels: ['unsatisfied', 'satisfied', 'unsatisfied', 'satisfied', 'unsatisfied', 'satisfied', 'satisfied', 'satisfied', 'satisfied', 'satisfied']\n"
     ]
    }
   ],
   "source": [
    "predictions = classifier.predict(X_test)\n",
    "print(f\"First 10 Predictions:   {predictions[:10].tolist()}\")\n",
    "print(f\"First 10 Actual labels: {y_test[:10].tolist()}\")"
   ]
  },
  {
   "cell_type": "code",
   "execution_count": 17,
   "metadata": {},
   "outputs": [
    {
     "name": "stdout",
     "output_type": "stream",
     "text": [
      "Training Data Score: 0.9928825622775801\n",
      "Testing Data Score: 0.7393617021276596\n"
     ]
    }
   ],
   "source": [
    "from sklearn.ensemble import RandomForestClassifier\n",
    "classifier = RandomForestClassifier()\n",
    "classifier = classifier.fit(X_train, y_train)\n",
    "print(f\"Training Data Score: {classifier.score(X_train, y_train)}\")\n",
    "print(f\"Testing Data Score: {classifier.score(X_test, y_test)}\")"
   ]
  },
  {
   "cell_type": "code",
   "execution_count": 18,
   "metadata": {},
   "outputs": [
    {
     "name": "stdout",
     "output_type": "stream",
     "text": [
      "First 10 Predictions:   ['unsatisfied', 'satisfied', 'unsatisfied', 'satisfied', 'unsatisfied', 'satisfied', 'unsatisfied', 'satisfied', 'satisfied', 'unsatisfied']\n",
      "First 10 Actual labels: ['unsatisfied', 'satisfied', 'unsatisfied', 'satisfied', 'unsatisfied', 'satisfied', 'satisfied', 'satisfied', 'satisfied', 'satisfied']\n"
     ]
    }
   ],
   "source": [
    "predictions = classifier.predict(X_test)\n",
    "print(f\"First 10 Predictions:   {predictions[:10].tolist()}\")\n",
    "print(f\"First 10 Actual labels: {y_test[:10].tolist()}\")"
   ]
  },
  {
   "cell_type": "code",
   "execution_count": 19,
   "metadata": {},
   "outputs": [],
   "source": [
    "y = pd.get_dummies(model_df['satisfaction_level'])\n",
    "X_train, X_test, y_train, y_test = train_test_split(X, y, random_state=1)\n",
    "\n",
    "from sklearn.preprocessing import StandardScaler\n",
    "X_scaler = StandardScaler().fit(X_train)\n",
    "y_scaler = StandardScaler().fit(y_train)\n",
    "\n",
    "X_train_scaled = X_scaler.transform(X_train)\n",
    "X_test_scaled = X_scaler.transform(X_test)\n",
    "y_train_scaled = y_scaler.transform(y_train)\n",
    "y_test_scaled = y_scaler.transform(y_test)"
   ]
  },
  {
   "cell_type": "code",
   "execution_count": 25,
   "metadata": {},
   "outputs": [
    {
     "name": "stdout",
     "output_type": "stream",
     "text": [
      "k: 1, Train/Test Score: 0.989/0.633\n",
      "k: 3, Train/Test Score: 0.813/0.729\n",
      "k: 5, Train/Test Score: 0.772/0.734\n",
      "k: 7, Train/Test Score: 0.763/0.718\n",
      "k: 9, Train/Test Score: 0.758/0.729\n",
      "k: 11, Train/Test Score: 0.751/0.729\n",
      "k: 13, Train/Test Score: 0.749/0.750\n",
      "k: 15, Train/Test Score: 0.753/0.750\n",
      "k: 17, Train/Test Score: 0.747/0.750\n",
      "k: 19, Train/Test Score: 0.746/0.745\n"
     ]
    },
    {
     "data": {
      "image/png": "[encoded data removed]",
      "text/plain": [
       "<Figure size 432x288 with 1 Axes>"
      ]
     },
     "metadata": {
      "needs_background": "light"
     },
     "output_type": "display_data"
    }
   ],
   "source": [
    "from sklearn.neighbors import KNeighborsClassifier\n",
    "import matplotlib.pyplot as plt\n",
    "\n",
    "train_scores = []\n",
    "test_scores = []\n",
    "for k in range(1, 20, 2):\n",
    "    knn = KNeighborsClassifier(n_neighbors=k)\n",
    "    knn.fit(X_train_scaled, y_train)\n",
    "    train_score = knn.score(X_train_scaled, y_train)\n",
    "    test_score = knn.score(X_test_scaled, y_test)\n",
    "    train_scores.append(train_score)\n",
    "    test_scores.append(test_score)\n",
    "    print(f\"k: {k}, Train/Test Score: {train_score:.3f}/{test_score:.3f}\")\n",
    "    \n",
    "    \n",
    "plt.plot(range(1, 20, 2), train_scores, marker='o')\n",
    "plt.plot(range(1, 20, 2), test_scores, marker=\"x\")\n",
    "plt.xlabel(\"k neighbors\")\n",
    "plt.ylabel(\"Testing accuracy Score\")\n",
    "plt.show()"
   ]
  },
  {
   "cell_type": "code",
   "execution_count": 27,
   "metadata": {},
   "outputs": [
    {
     "name": "stdout",
     "output_type": "stream",
     "text": [
      "k=13 Test Acc: 0.750\n"
     ]
    }
   ],
   "source": [
    "knn = KNeighborsClassifier(n_neighbors=13)\n",
    "knn.fit(X_train_scaled, y_train)\n",
    "print('k=13 Test Acc: %.3f' % knn.score(X_test_scaled, y_test))"
   ]
  },
  {
   "cell_type": "code",
   "execution_count": null,
   "metadata": {},
   "outputs": [],
   "source": []
  }
 ],
 "metadata": {
  "kernelspec": {
   "display_name": "Python 3",
   "language": "python",
   "name": "python3"
  },
  "language_info": {
   "codemirror_mode": {
    "name": "ipython",
    "version": 3
   },
   "file_extension": ".py",
   "mimetype": "text/x-python",
   "name": "python",
   "nbconvert_exporter": "python",
   "pygments_lexer": "ipython3",
   "version": "3.7.5"
  }
 },
 "nbformat": 4,
 "nbformat_minor": 4
}
